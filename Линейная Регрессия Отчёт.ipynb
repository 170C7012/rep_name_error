{
 "cells": [
  {
   "cell_type": "markdown",
   "metadata": {},
   "source": [
    "# Отчёт по работе с кейсом \"Оракул\" \n",
    "\n",
    "## Линейная Регрессия \n",
    "\n",
    "*В данном документе была разобрана работа алгоритма Линейной Регрессии библиотеки sklearn с множественными вариациями вводимых данных. В кейсе указано сделать предсказания на: 10 минут, 1 час, 12 часов и 24 часа. Изначально в предложенном датасете \"rps_1w.csv\" указаны значения в 5 минутках на (округлённо) неделю. Причесал датасет и форматировал в xls для удобства, разграничив колонки.*\n"
   ]
  },
  {
   "cell_type": "code",
   "execution_count": 31,
   "metadata": {},
   "outputs": [],
   "source": [
    "import pandas as pd"
   ]
  },
  {
   "cell_type": "code",
   "execution_count": 32,
   "metadata": {},
   "outputs": [],
   "source": [
    "#Записываю в dat_fra файл с данными (датасет)\n",
    "\n",
    "dat_fra = pd.read_excel(\"rps_1w.xls\")\n"
   ]
  },
  {
   "cell_type": "code",
   "execution_count": 33,
   "metadata": {},
   "outputs": [],
   "source": [
    "#Записываю в traffic dat_fra колонку value\n",
    "\n",
    "traffic = dat_fra[\"value\"]\n"
   ]
  },
  {
   "cell_type": "code",
   "execution_count": 34,
   "metadata": {},
   "outputs": [
    {
     "data": {
      "text/plain": [
       "<matplotlib.axes._subplots.AxesSubplot at 0xc2065c8>"
      ]
     },
     "execution_count": 34,
     "metadata": {},
     "output_type": "execute_result"
    },
    {
     "data": {
      "image/png": "[encoded data removed]",
      "text/plain": [
       "<Figure size 432x288 with 1 Axes>"
      ]
     },
     "metadata": {
      "needs_background": "light"
     },
     "output_type": "display_data"
    }
   ],
   "source": [
    "#Просто графичек\n",
    "\n",
    "traffic.plot()\n"
   ]
  },
  {
   "cell_type": "code",
   "execution_count": 35,
   "metadata": {},
   "outputs": [
    {
     "data": {
      "text/plain": [
       "0       3530.323333\n",
       "1       3568.590000\n",
       "2       3468.773333\n",
       "3       3606.650000\n",
       "4       3383.800000\n",
       "           ...     \n",
       "2256    8934.210000\n",
       "2257    9363.986667\n",
       "2258    9561.926667\n",
       "2259    9375.830000\n",
       "2260     299.300000\n",
       "Name: value, Length: 2261, dtype: float64"
      ]
     },
     "execution_count": 35,
     "metadata": {},
     "output_type": "execute_result"
    }
   ],
   "source": [
    "#Просто смотрел длинну, проверял\n",
    "\n",
    "traffic"
   ]
  },
  {
   "cell_type": "markdown",
   "metadata": {},
   "source": [
    "# Поле изменяемых параметров необходимого времени для расчетов\n",
    "\n",
    "## fut соответствует желаемому предсказанию по времени, так\n",
    "\n",
    "* **fut**=2 соответствует 10 минутам\n",
    "* **fut**=12 соответствует часу\n",
    "* **fut**=144 соответсвует 12 часам\n",
    "* **fut**=288 соответсвует 24 часам\n",
    "\n",
    "* **pas** вариативно и соответствует данным из прошлого, которые мы берём из датасета для расчетов"
   ]
  },
  {
   "cell_type": "code",
   "execution_count": 36,
   "metadata": {},
   "outputs": [],
   "source": [
    "#В данном поле можно играться значениями для проверки и получения наилучшего результата.\n",
    "#В отчёте (заключение с разъяснением) представлены используемые значения, которые можно проверить самостоятельно.\n",
    "\n",
    "pas = 2 * 6         # данные за время с 24.11 17.40\n",
    "fut = 2               # предсказание на 10 минут. \n",
    "                      "
   ]
  },
  {
   "cell_type": "code",
   "execution_count": 37,
   "metadata": {},
   "outputs": [
    {
     "data": {
      "text/plain": [
       "2261"
      ]
     },
     "execution_count": 37,
     "metadata": {},
     "output_type": "execute_result"
    }
   ],
   "source": [
    "#Проверка длинны\n",
    "\n",
    "len(traffic)"
   ]
  },
  {
   "cell_type": "code",
   "execution_count": 38,
   "metadata": {},
   "outputs": [],
   "source": [
    "#Указываю начало для алгоритма и конец соответственно\n",
    "\n",
    "strt = pas\n",
    "end = len(traffic) - fut "
   ]
  },
  {
   "cell_type": "code",
   "execution_count": 39,
   "metadata": {},
   "outputs": [],
   "source": [
    "#в pf_df записал массив цикла от начала и до конца\n",
    "\n",
    "pf_df = []\n",
    "for i in range(strt,end):\n",
    "    p_and_f = traffic[(i-pas):(i+fut)]\n",
    "    pf_df.append(list(p_and_f))"
   ]
  },
  {
   "cell_type": "code",
   "execution_count": 40,
   "metadata": {},
   "outputs": [
    {
     "data": {
      "text/plain": [
       "2247"
      ]
     },
     "execution_count": 40,
     "metadata": {},
     "output_type": "execute_result"
    }
   ],
   "source": [
    "#Проверочка длинны листа, строчек\n",
    "\n",
    "len(pf_df) "
   ]
  },
  {
   "cell_type": "code",
   "execution_count": 41,
   "metadata": {},
   "outputs": [
    {
     "data": {
      "text/plain": [
       "14"
      ]
     },
     "execution_count": 41,
     "metadata": {},
     "output_type": "execute_result"
    }
   ],
   "source": [
    "#Проверка столбцов\n",
    "\n",
    "len(pf_df[0]) "
   ]
  },
  {
   "cell_type": "code",
   "execution_count": 43,
   "metadata": {},
   "outputs": [],
   "source": [
    "#Именую столбцы(колоночки) прошлого с помощью цикла\n",
    "\n",
    "pas_col = []\n",
    "for i in range(pas):\n",
    "    pas_col.append(\"pas_{}\".format(i)) "
   ]
  },
  {
   "cell_type": "code",
   "execution_count": 44,
   "metadata": {},
   "outputs": [],
   "source": [
    "#Именую столбцы(колоночки) будущего с помощью того же цикла\n",
    "\n",
    "fut_col = []\n",
    "for i in range(fut):\n",
    "    fut_col.append(\"fut_{}\".format(i)) "
   ]
  },
  {
   "cell_type": "code",
   "execution_count": 45,
   "metadata": {},
   "outputs": [],
   "source": [
    "#Варю в dat_fra итоговый датафрейм\n",
    "\n",
    "dat_fra = pd.DataFrame(pf_df, columns=(pas_col+fut_col))"
   ]
  },
  {
   "cell_type": "code",
   "execution_count": 46,
   "metadata": {},
   "outputs": [
    {
     "data": {
      "text/html": [
       "<div>\n",
       "<style scoped>\n",
       "    .dataframe tbody tr th:only-of-type {\n",
       "        vertical-align: middle;\n",
       "    }\n",
       "\n",
       "    .dataframe tbody tr th {\n",
       "        vertical-align: top;\n",
       "    }\n",
       "\n",
       "    .dataframe thead th {\n",
       "        text-align: right;\n",
       "    }\n",
       "</style>\n",
       "<table border=\"1\" class=\"dataframe\">\n",
       "  <thead>\n",
       "    <tr style=\"text-align: right;\">\n",
       "      <th></th>\n",
       "      <th>pas_0</th>\n",
       "      <th>pas_1</th>\n",
       "      <th>pas_2</th>\n",
       "      <th>pas_3</th>\n",
       "      <th>pas_4</th>\n",
       "      <th>pas_5</th>\n",
       "      <th>pas_6</th>\n",
       "      <th>pas_7</th>\n",
       "      <th>pas_8</th>\n",
       "      <th>pas_9</th>\n",
       "      <th>pas_10</th>\n",
       "      <th>pas_11</th>\n",
       "      <th>fut_0</th>\n",
       "      <th>fut_1</th>\n",
       "    </tr>\n",
       "  </thead>\n",
       "  <tbody>\n",
       "    <tr>\n",
       "      <td>0</td>\n",
       "      <td>3530.323333</td>\n",
       "      <td>3568.590000</td>\n",
       "      <td>3468.773333</td>\n",
       "      <td>3606.650000</td>\n",
       "      <td>3383.800000</td>\n",
       "      <td>3485.766667</td>\n",
       "      <td>3618.750000</td>\n",
       "      <td>3365.860000</td>\n",
       "      <td>3579.640000</td>\n",
       "      <td>3423.506667</td>\n",
       "      <td>3458.586667</td>\n",
       "      <td>3768.730000</td>\n",
       "      <td>3648.416667</td>\n",
       "      <td>3486.386667</td>\n",
       "    </tr>\n",
       "    <tr>\n",
       "      <td>1</td>\n",
       "      <td>3568.590000</td>\n",
       "      <td>3468.773333</td>\n",
       "      <td>3606.650000</td>\n",
       "      <td>3383.800000</td>\n",
       "      <td>3485.766667</td>\n",
       "      <td>3618.750000</td>\n",
       "      <td>3365.860000</td>\n",
       "      <td>3579.640000</td>\n",
       "      <td>3423.506667</td>\n",
       "      <td>3458.586667</td>\n",
       "      <td>3768.730000</td>\n",
       "      <td>3648.416667</td>\n",
       "      <td>3486.386667</td>\n",
       "      <td>3732.016667</td>\n",
       "    </tr>\n",
       "    <tr>\n",
       "      <td>2</td>\n",
       "      <td>3468.773333</td>\n",
       "      <td>3606.650000</td>\n",
       "      <td>3383.800000</td>\n",
       "      <td>3485.766667</td>\n",
       "      <td>3618.750000</td>\n",
       "      <td>3365.860000</td>\n",
       "      <td>3579.640000</td>\n",
       "      <td>3423.506667</td>\n",
       "      <td>3458.586667</td>\n",
       "      <td>3768.730000</td>\n",
       "      <td>3648.416667</td>\n",
       "      <td>3486.386667</td>\n",
       "      <td>3732.016667</td>\n",
       "      <td>3724.240000</td>\n",
       "    </tr>\n",
       "    <tr>\n",
       "      <td>3</td>\n",
       "      <td>3606.650000</td>\n",
       "      <td>3383.800000</td>\n",
       "      <td>3485.766667</td>\n",
       "      <td>3618.750000</td>\n",
       "      <td>3365.860000</td>\n",
       "      <td>3579.640000</td>\n",
       "      <td>3423.506667</td>\n",
       "      <td>3458.586667</td>\n",
       "      <td>3768.730000</td>\n",
       "      <td>3648.416667</td>\n",
       "      <td>3486.386667</td>\n",
       "      <td>3732.016667</td>\n",
       "      <td>3724.240000</td>\n",
       "      <td>3672.356667</td>\n",
       "    </tr>\n",
       "    <tr>\n",
       "      <td>4</td>\n",
       "      <td>3383.800000</td>\n",
       "      <td>3485.766667</td>\n",
       "      <td>3618.750000</td>\n",
       "      <td>3365.860000</td>\n",
       "      <td>3579.640000</td>\n",
       "      <td>3423.506667</td>\n",
       "      <td>3458.586667</td>\n",
       "      <td>3768.730000</td>\n",
       "      <td>3648.416667</td>\n",
       "      <td>3486.386667</td>\n",
       "      <td>3732.016667</td>\n",
       "      <td>3724.240000</td>\n",
       "      <td>3672.356667</td>\n",
       "      <td>3968.950000</td>\n",
       "    </tr>\n",
       "    <tr>\n",
       "      <td>...</td>\n",
       "      <td>...</td>\n",
       "      <td>...</td>\n",
       "      <td>...</td>\n",
       "      <td>...</td>\n",
       "      <td>...</td>\n",
       "      <td>...</td>\n",
       "      <td>...</td>\n",
       "      <td>...</td>\n",
       "      <td>...</td>\n",
       "      <td>...</td>\n",
       "      <td>...</td>\n",
       "      <td>...</td>\n",
       "      <td>...</td>\n",
       "      <td>...</td>\n",
       "    </tr>\n",
       "    <tr>\n",
       "      <td>2242</td>\n",
       "      <td>10000.130000</td>\n",
       "      <td>9670.606667</td>\n",
       "      <td>9185.806667</td>\n",
       "      <td>8829.103333</td>\n",
       "      <td>8471.213333</td>\n",
       "      <td>8391.656667</td>\n",
       "      <td>8165.090000</td>\n",
       "      <td>8178.313333</td>\n",
       "      <td>7989.160000</td>\n",
       "      <td>7916.613333</td>\n",
       "      <td>7812.323333</td>\n",
       "      <td>7912.173333</td>\n",
       "      <td>8060.066667</td>\n",
       "      <td>8805.900000</td>\n",
       "    </tr>\n",
       "    <tr>\n",
       "      <td>2243</td>\n",
       "      <td>9670.606667</td>\n",
       "      <td>9185.806667</td>\n",
       "      <td>8829.103333</td>\n",
       "      <td>8471.213333</td>\n",
       "      <td>8391.656667</td>\n",
       "      <td>8165.090000</td>\n",
       "      <td>8178.313333</td>\n",
       "      <td>7989.160000</td>\n",
       "      <td>7916.613333</td>\n",
       "      <td>7812.323333</td>\n",
       "      <td>7912.173333</td>\n",
       "      <td>8060.066667</td>\n",
       "      <td>8805.900000</td>\n",
       "      <td>8934.210000</td>\n",
       "    </tr>\n",
       "    <tr>\n",
       "      <td>2244</td>\n",
       "      <td>9185.806667</td>\n",
       "      <td>8829.103333</td>\n",
       "      <td>8471.213333</td>\n",
       "      <td>8391.656667</td>\n",
       "      <td>8165.090000</td>\n",
       "      <td>8178.313333</td>\n",
       "      <td>7989.160000</td>\n",
       "      <td>7916.613333</td>\n",
       "      <td>7812.323333</td>\n",
       "      <td>7912.173333</td>\n",
       "      <td>8060.066667</td>\n",
       "      <td>8805.900000</td>\n",
       "      <td>8934.210000</td>\n",
       "      <td>9363.986667</td>\n",
       "    </tr>\n",
       "    <tr>\n",
       "      <td>2245</td>\n",
       "      <td>8829.103333</td>\n",
       "      <td>8471.213333</td>\n",
       "      <td>8391.656667</td>\n",
       "      <td>8165.090000</td>\n",
       "      <td>8178.313333</td>\n",
       "      <td>7989.160000</td>\n",
       "      <td>7916.613333</td>\n",
       "      <td>7812.323333</td>\n",
       "      <td>7912.173333</td>\n",
       "      <td>8060.066667</td>\n",
       "      <td>8805.900000</td>\n",
       "      <td>8934.210000</td>\n",
       "      <td>9363.986667</td>\n",
       "      <td>9561.926667</td>\n",
       "    </tr>\n",
       "    <tr>\n",
       "      <td>2246</td>\n",
       "      <td>8471.213333</td>\n",
       "      <td>8391.656667</td>\n",
       "      <td>8165.090000</td>\n",
       "      <td>8178.313333</td>\n",
       "      <td>7989.160000</td>\n",
       "      <td>7916.613333</td>\n",
       "      <td>7812.323333</td>\n",
       "      <td>7912.173333</td>\n",
       "      <td>8060.066667</td>\n",
       "      <td>8805.900000</td>\n",
       "      <td>8934.210000</td>\n",
       "      <td>9363.986667</td>\n",
       "      <td>9561.926667</td>\n",
       "      <td>9375.830000</td>\n",
       "    </tr>\n",
       "  </tbody>\n",
       "</table>\n",
       "<p>2247 rows × 14 columns</p>\n",
       "</div>"
      ],
      "text/plain": [
       "             pas_0        pas_1        pas_2        pas_3        pas_4  \\\n",
       "0      3530.323333  3568.590000  3468.773333  3606.650000  3383.800000   \n",
       "1      3568.590000  3468.773333  3606.650000  3383.800000  3485.766667   \n",
       "2      3468.773333  3606.650000  3383.800000  3485.766667  3618.750000   \n",
       "3      3606.650000  3383.800000  3485.766667  3618.750000  3365.860000   \n",
       "4      3383.800000  3485.766667  3618.750000  3365.860000  3579.640000   \n",
       "...            ...          ...          ...          ...          ...   \n",
       "2242  10000.130000  9670.606667  9185.806667  8829.103333  8471.213333   \n",
       "2243   9670.606667  9185.806667  8829.103333  8471.213333  8391.656667   \n",
       "2244   9185.806667  8829.103333  8471.213333  8391.656667  8165.090000   \n",
       "2245   8829.103333  8471.213333  8391.656667  8165.090000  8178.313333   \n",
       "2246   8471.213333  8391.656667  8165.090000  8178.313333  7989.160000   \n",
       "\n",
       "            pas_5        pas_6        pas_7        pas_8        pas_9  \\\n",
       "0     3485.766667  3618.750000  3365.860000  3579.640000  3423.506667   \n",
       "1     3618.750000  3365.860000  3579.640000  3423.506667  3458.586667   \n",
       "2     3365.860000  3579.640000  3423.506667  3458.586667  3768.730000   \n",
       "3     3579.640000  3423.506667  3458.586667  3768.730000  3648.416667   \n",
       "4     3423.506667  3458.586667  3768.730000  3648.416667  3486.386667   \n",
       "...           ...          ...          ...          ...          ...   \n",
       "2242  8391.656667  8165.090000  8178.313333  7989.160000  7916.613333   \n",
       "2243  8165.090000  8178.313333  7989.160000  7916.613333  7812.323333   \n",
       "2244  8178.313333  7989.160000  7916.613333  7812.323333  7912.173333   \n",
       "2245  7989.160000  7916.613333  7812.323333  7912.173333  8060.066667   \n",
       "2246  7916.613333  7812.323333  7912.173333  8060.066667  8805.900000   \n",
       "\n",
       "           pas_10       pas_11        fut_0        fut_1  \n",
       "0     3458.586667  3768.730000  3648.416667  3486.386667  \n",
       "1     3768.730000  3648.416667  3486.386667  3732.016667  \n",
       "2     3648.416667  3486.386667  3732.016667  3724.240000  \n",
       "3     3486.386667  3732.016667  3724.240000  3672.356667  \n",
       "4     3732.016667  3724.240000  3672.356667  3968.950000  \n",
       "...           ...          ...          ...          ...  \n",
       "2242  7812.323333  7912.173333  8060.066667  8805.900000  \n",
       "2243  7912.173333  8060.066667  8805.900000  8934.210000  \n",
       "2244  8060.066667  8805.900000  8934.210000  9363.986667  \n",
       "2245  8805.900000  8934.210000  9363.986667  9561.926667  \n",
       "2246  8934.210000  9363.986667  9561.926667  9375.830000  \n",
       "\n",
       "[2247 rows x 14 columns]"
      ]
     },
     "execution_count": 46,
     "metadata": {},
     "output_type": "execute_result"
    }
   ],
   "source": [
    "dat_fra"
   ]
  },
  {
   "cell_type": "markdown",
   "metadata": {},
   "source": [
    "# Значения для учебника и экзамена должны быть равными"
   ]
  },
  {
   "cell_type": "code",
   "execution_count": 47,
   "metadata": {},
   "outputs": [],
   "source": [
    "#В отчёте(заключение с разъяснением) представлены используемые значения, которые можно проверить и вариировать самостоятельно.\n",
    "#Число соответсвует отрезку по колонкам как для учебника, так и для экзамена\n",
    "\n",
    "#Учебник для алгоритмов\n",
    "\n",
    "\n",
    "x = dat_fra[pas_col][:-2]        # Задачи (Входные данные)\n",
    "y = dat_fra[fut_col][:-2]      # Предсказание (Ответы)\n",
    "\n",
    "#Экзамен\n",
    "\n",
    "x_test = dat_fra[pas_col][-2:]      # Задачи\n",
    "y_test = dat_fra[fut_col][-2:]    # Ответы"
   ]
  },
  {
   "cell_type": "code",
   "execution_count": 48,
   "metadata": {},
   "outputs": [],
   "source": [
    "# Из библиотеки взял алгорит Линейной Регрессии\n",
    "\n",
    "from sklearn.linear_model import LinearRegression "
   ]
  },
  {
   "cell_type": "code",
   "execution_count": 49,
   "metadata": {},
   "outputs": [],
   "source": [
    "#Создал объект,экземпляр алгоритма, который можно обучать\n",
    "\n",
    "LinReg = LinearRegression()"
   ]
  },
  {
   "cell_type": "code",
   "execution_count": 50,
   "metadata": {},
   "outputs": [
    {
     "data": {
      "text/plain": [
       "LinearRegression(copy_X=True, fit_intercept=True, n_jobs=None, normalize=False)"
      ]
     },
     "execution_count": 50,
     "metadata": {},
     "output_type": "execute_result"
    }
   ],
   "source": [
    "#Обучаю алгоритм,даю съесть учебник\n",
    "\n",
    "LinReg.fit(x, y)"
   ]
  },
  {
   "cell_type": "code",
   "execution_count": 51,
   "metadata": {},
   "outputs": [],
   "source": [
    "#Обращаюсь к алгоритму, чтобы он предсказал будущее на данных из x_test\n",
    "\n",
    "prediction = LinReg.predict(x_test)"
   ]
  },
  {
   "cell_type": "code",
   "execution_count": 52,
   "metadata": {},
   "outputs": [],
   "source": [
    "# Для рисования графиков\n",
    "\n",
    "import matplotlib.pyplot as plt"
   ]
  },
  {
   "cell_type": "code",
   "execution_count": 53,
   "metadata": {},
   "outputs": [
    {
     "data": {
      "text/plain": [
       "<matplotlib.legend.Legend at 0x9060e48>"
      ]
     },
     "execution_count": 53,
     "metadata": {},
     "output_type": "execute_result"
    },
    {
     "data": {
      "image/png": "[encoded data removed]",
      "text/plain": [
       "<Figure size 432x288 with 1 Axes>"
      ]
     },
     "metadata": {
      "needs_background": "light"
     },
     "output_type": "display_data"
    }
   ],
   "source": [
    "#Рисует график\n",
    "#Значения параметров prediction и y_test пропорциональны \n",
    "#Пример: если учебник и экзамен -12, то prediction от 0 до 11, а y_test от -12 до -1\n",
    "\n",
    "plt.plot(prediction[1], label=\"prediction\")\n",
    "plt.plot(y_test[-1:].iloc[0], label=\"real\")\n",
    "plt.legend()\n"
   ]
  },
  {
   "cell_type": "code",
   "execution_count": 54,
   "metadata": {},
   "outputs": [],
   "source": [
    "# Импортировал метрику, средняя абсолютная ошибка\n",
    "\n",
    "from sklearn.metrics import mean_absolute_error"
   ]
  },
  {
   "cell_type": "code",
   "execution_count": 55,
   "metadata": {},
   "outputs": [
    {
     "data": {
      "text/plain": [
       "147.73759479957243"
      ]
     },
     "execution_count": 55,
     "metadata": {},
     "output_type": "execute_result"
    }
   ],
   "source": [
    "# Средняя абсолютная ошибка за один день\n",
    "\n",
    "mean_absolute_error(y_test[-1:].iloc[0],prediction[1])"
   ]
  },
  {
   "cell_type": "code",
   "execution_count": 56,
   "metadata": {},
   "outputs": [],
   "source": [
    "# Функция рассчета ошибки\n",
    "\n",
    "def printErrors(prediction):\n",
    "    errors_list = []\n",
    "    for i in range (len(prediction)):\n",
    "        error = mean_absolute_error(y_test.iloc[i],prediction[i])\n",
    "        errors_list.append(error)\n",
    "        mid_err = sum(errors_list) / len(errors_list)    # Средняя ошибка\n",
    "        max_err = max(errors_list)                       # Максимальная ошибка\n",
    "    print(\"Средняя ошибка = {}\".format(mid_err))\n",
    "    print(\"Максимальная ошибка = {}\".format(max_err))"
   ]
  },
  {
   "cell_type": "code",
   "execution_count": 57,
   "metadata": {},
   "outputs": [
    {
     "name": "stdout",
     "output_type": "stream",
     "text": [
      "Средняя ошибка = 416.95037340486033\n",
      "Максимальная ошибка = 686.1631520101482\n"
     ]
    }
   ],
   "source": [
    "printErrors(prediction)"
   ]
  },
  {
   "cell_type": "markdown",
   "metadata": {},
   "source": [
    "# Заключение с разьяснением\n",
    "\n",
    "*В данной модели с использованием алгоритма Линейной Регрессии были проведены тесты множественных вариаций вводных данных для достижения наилучшего результата. В связи с тем, что критерии выбора лучшего варианта для вашей работы были указаны лишь о минимальном количестве дисперсий, я предоставил несколько вариантов на выбор.*\n",
    "\n",
    "**1.) Для предсказания на 10 минут (fut=2)**\n",
    "\n",
    "* min. средняя ошибка (округлённо от плавающей точки(int)): 268 при (pas=2 * 96; учебник,экзамен - 192)\n",
    "* min. максимальная ошибка (округлённо от плавающей точки(int)): 372 при (pas=2 * 192; учебник,экзамен - 2)\n",
    "\n",
    "**Лучшее соотношение: средняя ошибка = 329, максимальная ошибка = 379 при (pas=2 * 288; учебник,экзамен - 2)**\n",
    "\n",
    "*Дополнительно прилагаю лучшие значения,которые получились при разных вариациях:*\n",
    "\n",
    "* учебник,экзамен = -6 (pas=2 * 6) : средняя ошибка = 417, максимальная ошибка = 687\n",
    "* учебник,экзамен = -12 (pas=2 * 288) : средняя ошибка = 285, максимальная ошибка = 822\n",
    "* учебник,экзамен = -24 (pas=2 * 288) : средняя ошибка = 280, максимальная ошибка = 806\n",
    "* учебник,экзамен = -48 (pas=2 * 288) : средняя ошибка = 280, максимальная ошибка = 806\n",
    "* учебник,экзамен = -96 (pas=2 * 192) : средняя ошибка = 286, максимальная ошибка = 1146\n",
    "* учебник,экзамен = -192 (pas=2 * 192) : средняя ошибка = 271, максимальная ошибка = 1212\n",
    "* учебник,экзамен = -384 (pas=2 * 192) : средняя ошибка = 197, максимальная ошибка = 1213\n",
    "\n",
    "*Возможно вас заинтересуют эти результаты, которые можно проверить и использоватьс  более объёмным датасетом.*\n",
    "\n",
    "\n",
    "### Примечание\n",
    "\n",
    "\n",
    "* При уменьшении учебника увеличивается максимальная ошибка, но снижается средняя ошибка.\n",
    "* Значения больше pas=2 * 288 не актуальны.\n",
    "* При скальпировании(10 минут) тренд изменений не ясен и слабо предсказуем.( в чем можно убедиться из графиков)\n",
    "\n",
    "**2.) Для предсказания на 1 час(fut=12)**\n",
    "\n",
    "* min. средняя ошибка (округлённо от плавающей точки(int)): 271 при (pas=2 * 384; учебник,экзамен - 2)\n",
    "* min. максимальная ошибка (округлённо от плавающей точки(int)): 296 при (pas=2 * 384; учебник,экзамен - 2)\n",
    "\n",
    "**Лучшее соотношение: средняя ошибка = 271, максимальная ошибка = 296 при (pas=2 * 384; учебник,экзамен - 2)** \n",
    "\n",
    "*Предполагаю более актуальными в связи с увеличенным плечом проверочных данных:*\n",
    "\n",
    "* min. средняя ошибка (округлённо от плавающей точки(int)): 441 при (pas=2 * 384; учебник,экзамен - 24)\n",
    "* min. максимальная ошибка (округлённо от плавающей точки(int)): 623 при (pas=2 * 384; учебник,экзамен - 24)\n",
    "\n",
    "**Лучшее соотношение: средняя ошибка = 441, максимальная ошибка = 623 при (pas=2 * 384; учебник,экзамен - 24)**\n",
    "\n",
    "*Дополнительно прилагаю лучшие значения,которые получились при разных вариациях:*\n",
    "\n",
    "* учебник,экзамен = -6 (pas=2 * 384) : средняя ошибка = 329, максимальная ошибка = 474\n",
    "* учебник,экзамен = -12 (pas=2 * 384) : средняя ошибка = 486, максимальная ошибка = 705\n",
    "\n",
    "\n",
    "### Примечание\n",
    "\n",
    "\n",
    "* Значения меньше pas=2 * 384 не актуальны\n",
    "* Значения учебника и экзамена меньше -24 не актуальны\n",
    "* Присутсвуют как предсказания тренда, так и пересечения на графиках\n",
    "\n",
    "**3.) Для предсказания на 12 часов(fut=144)**\n",
    "\n",
    "* min. средняя ошибка (округлённо от плавающей точки(int)): 245 при (pas=2 * 576; учебник,экзамен - 2)\n",
    "* min. максимальная ошибка (округлённо от плавающей точки(int)): 322 при (pas=2 * 576; учебник,экзамен - 2)\n",
    "\n",
    "**Лучшее соотношение: средняя ошибка = 245, максимальная ошибка = 322 при (pas=2 * 576; учебник,экзамен - 2)**\n",
    "\n",
    "\n",
    "### Примечание\n",
    "\n",
    "\n",
    "* Все остальные вариации выдавали дисперсии больше 1000.0\n",
    "\n",
    "**4.) Для предсказания на 24 часа(fut=288)**\n",
    "\n",
    "* min. средняя ошибка (округлённо от плавающей точки(int)): 261 при (pas=2 * 576; учебник,экзамен - 2)\n",
    "* min. максимальная ошибка (округлённо от плавающей точки(int)): 341 при (pas=2 * 576; учебник,экзамен - 2)\n",
    "\n",
    "**Лучшее соотношение: средняя ошибка = 261, максимальная ошибка = 341 при (pas=2 * 576; учебник,экзамен - 2)**\n",
    "\n",
    "\n",
    "### Примечание \n",
    "\n",
    "\n",
    "* Актально использовать только pas=2 * 576\n",
    "\n",
    "# *Вывод*\n",
    "\n",
    "*В ходе проделанной работы выявлено несколько моделей (вариаций) алгоритма Линейной Регресси для предсказания на 10 минут, час, 12 часов и 24 часа, которые можно использовать на выбор, либо совершенствовать исходя из предложенной статистики.*"
   ]
  },
  {
   "cell_type": "code",
   "execution_count": null,
   "metadata": {},
   "outputs": [],
   "source": []
  }
 ],
 "metadata": {
  "kernelspec": {
   "display_name": "Python 3",
   "language": "python",
   "name": "python3"
  },
  "language_info": {
   "codemirror_mode": {
    "name": "ipython",
    "version": 3
   },
   "file_extension": ".py",
   "mimetype": "text/x-python",
   "name": "python",
   "nbconvert_exporter": "python",
   "pygments_lexer": "ipython3",
   "version": "3.7.4"
  }
 },
 "nbformat": 4,
 "nbformat_minor": 2
}
